{
 "cells": [
  {
   "cell_type": "code",
   "execution_count": 1,
   "metadata": {
    "collapsed": true
   },
   "outputs": [],
   "source": [
    "import sqlite3"
   ]
  },
  {
   "cell_type": "code",
   "execution_count": 2,
   "metadata": {
    "collapsed": false
   },
   "outputs": [],
   "source": [
    "with sqlite3.connect('packt-notify.db') as dbconn:\n",
    "    cur = dbconn.cursor()\n",
    "    cur.execute('''CREATE TABLE IF NOT EXISTS tb_books(\n",
    "                    id_book INT PRIMARY KEY NOT NULL,\n",
    "                    nom_book TEXT NOT NULL,\n",
    "                    dt_fetched DATATIME NO NULL)''')\n",
    "    cur.execute('''CREATE TABLE IF NOT EXISTS tb_emails\n",
    "                 (id_addr INT PRIMARY KEY NOT NULL,\n",
    "                  nom_addr TEXT NOT NULL,\n",
    "                  dt_in DATE NOT NULL,\n",
    "                  dt_out DATE,\n",
    "                  id_last_book INT,\n",
    "                  FOREIGN KEY(id_last_book) REFERENCES tb_books(id_book))''')\n",
    "    dbconn.commit()"
   ]
  }
 ],
 "metadata": {
  "anaconda-cloud": {},
  "kernelspec": {
   "display_name": "Python [default]",
   "language": "python",
   "name": "python3"
  },
  "language_info": {
   "codemirror_mode": {
    "name": "ipython",
    "version": 3
   },
   "file_extension": ".py",
   "mimetype": "text/x-python",
   "name": "python",
   "nbconvert_exporter": "python",
   "pygments_lexer": "ipython3",
   "version": "3.5.2"
  }
 },
 "nbformat": 4,
 "nbformat_minor": 2
}
