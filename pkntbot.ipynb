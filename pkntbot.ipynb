{
 "cells": [
  {
   "cell_type": "code",
   "execution_count": null,
   "metadata": {
    "collapsed": true
   },
   "outputs": [],
   "source": [
    "import pkntbasics"
   ]
  },
  {
   "cell_type": "code",
   "execution_count": null,
   "metadata": {
    "collapsed": true
   },
   "outputs": [],
   "source": [
    "pkntbasics.config_loggers('WARNING')\n",
    "logger = pkntbasics.BOTLOGGER"
   ]
  },
  {
   "cell_type": "code",
   "execution_count": null,
   "metadata": {
    "collapsed": true
   },
   "outputs": [],
   "source": [
    "def telegram_notify(botkey, book):   \n",
    "    global logger\n",
    "    \n",
    "    title = 'The free Packtpub book of today is *{0[name]}*'.format(book)\n",
    "    link = 'Visit https://www.packtpub.com/packt/offers/free-learning to download'\n",
    "    image = book['coverimage'].replace(' ', '%20')\n",
    "\n",
    "    bot = telepot.Bot(botkey)\n",
    "    logger.debug('Created the bot')\n",
    "    msg = bot.sendMessage('@packtpubnotify', title, 'Markdown')\n",
    "    logger.debug('Sent book title: {!s}'.format(msg))\n",
    "    msg = bot.sendPhoto('@packtpubnotify', image)\n",
    "    logger.debug('Sent book cover image: {!s}'.format(msg))\n",
    "    msg = bot.sendMessage('@packtpubnotify', link, disable_web_page_preview=True)\n",
    "    logger.debug('Sent download link: {!s}'.format(msg))"
   ]
  }
 ],
 "metadata": {
  "anaconda-cloud": {},
  "kernelspec": {
   "display_name": "Python [default]",
   "language": "python",
   "name": "python3"
  },
  "language_info": {
   "codemirror_mode": {
    "name": "ipython",
    "version": 3
   },
   "file_extension": ".py",
   "mimetype": "text/x-python",
   "name": "python",
   "nbconvert_exporter": "python",
   "pygments_lexer": "ipython3",
   "version": "3.5.2"
  }
 },
 "nbformat": 4,
 "nbformat_minor": 2
}
