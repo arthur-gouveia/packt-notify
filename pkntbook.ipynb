{
 "cells": [
  {
   "cell_type": "code",
   "execution_count": 1,
   "metadata": {
    "collapsed": false
   },
   "outputs": [],
   "source": [
    "import pkntbasics\n",
    "import urllib.request\n",
    "from bs4 import BeautifulSoup\n",
    "\n",
    "\n",
    "pkntbasics.config_loggers('WARNING')\n",
    "logger = pkntbasics.BOOKLOGGER"
   ]
  },
  {
   "cell_type": "code",
   "execution_count": 2,
   "metadata": {
    "collapsed": true
   },
   "outputs": [],
   "source": [
    "def get_page(url):\n",
    "    global logger\n",
    "    \n",
    "    logger.debug('Reading URL '+url)\n",
    "    data = urllib.request.urlopen(url).read()\n",
    "    logger.debug('Read %d data' %len(data))\n",
    "    logger.debug('Parsing data')\n",
    "    soup = BeautifulSoup(data, 'html.parser')\n",
    "    \n",
    "    return soup\n",
    "\n",
    "def get_book(url):\n",
    "    global logger\n",
    "    \n",
    "    soup = get_page(url)\n",
    "    \n",
    "    logger.debug('Getting bookname')\n",
    "    bookname = soup.find_all('div', class_='dotd-title')[0].h2.string.strip()\n",
    "    logger.debug('Bookname: ' + bookname)\n",
    "    bookcover = 'http:'+soup.find_all('img', class_='imagecache-dotd_main_image')[0]['src']\n",
    "    bookdescription = str(soup.find_all('div', class_='dotd-main-book-form')[0].previous_sibling.previous_sibling)\n",
    "    \n",
    "    book = dict(name=bookname, description=bookdescription, coverimage=bookcover)\n",
    "    return book"
   ]
  }
 ],
 "metadata": {
  "anaconda-cloud": {},
  "kernelspec": {
   "display_name": "Python [default]",
   "language": "python",
   "name": "python3"
  },
  "language_info": {
   "codemirror_mode": {
    "name": "ipython",
    "version": 3
   },
   "file_extension": ".py",
   "mimetype": "text/x-python",
   "name": "python",
   "nbconvert_exporter": "python",
   "pygments_lexer": "ipython3",
   "version": "3.5.2"
  }
 },
 "nbformat": 4,
 "nbformat_minor": 2
}
