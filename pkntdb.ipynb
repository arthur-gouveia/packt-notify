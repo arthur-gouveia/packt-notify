{
 "cells": [
  {
   "cell_type": "code",
   "execution_count": 1,
   "metadata": {
    "collapsed": true
   },
   "outputs": [],
   "source": [
    "import sqlite3\n",
    "import pkntbasics"
   ]
  },
  {
   "cell_type": "code",
   "execution_count": 2,
   "metadata": {
    "collapsed": true
   },
   "outputs": [],
   "source": [
    "pkntbasics.config_loggers('DEBUG')\n",
    "logger = pkntbasics.DBLOGGER"
   ]
  },
  {
   "cell_type": "code",
   "execution_count": 3,
   "metadata": {
    "collapsed": false
   },
   "outputs": [],
   "source": [
    "def sign_up(email_addr, id_last_book=None):\n",
    "    import time\n",
    "    global logger\n",
    "    \n",
    "    with sqlite3.connect('packt-notify.db') as dbconn:\n",
    "        cur = dbconn.cursor()\n",
    "        if (isinstance(email_addr, str)):\n",
    "            logger.debug('Inserting single value %s' %email_addr)\n",
    "            cur.execute('''INSERT INTO tb_emails (nom_addr, dt_in, id_last_book)\n",
    "                            VALUES (?, ?, ?)''', (email_addr, time.strftime('%Y-%m-%d'), id_last_book))\n",
    "        elif (isinstance(email_addr, list)):\n",
    "            now = time.strftime('%Y-%m-%d')\n",
    "            to_insert = [(item, now, id_last_book) for item in email_addr]\n",
    "            logger.debug('Inserting a list of %d values' %len(to_insert))\n",
    "            cur.executemany('''INSERT INTO tb_emails (nom_addr, dt_in, id_last_book)\n",
    "                               VALUES (?, ?, ?)''', to_insert)\n",
    "        else:\n",
    "            raise TypeError\n",
    "        dbconn.commit()\n",
    "\n",
    "\n",
    "def get_last_book():\n",
    "    global logger\n",
    "    \n",
    "    logger.debug('Connecting to database to get last book')\n",
    "    with sqlite3.connect('packt-notify.db') as dbconn:\n",
    "        cur = dbconn.cursor()\n",
    "        logger.debug('Querying last book')\n",
    "        data = cur.execute('Select rowid as mr, nom_book from tb_books order by rowid desc limit 1')\n",
    "        lastbook = list(data)[0]\n",
    "    return lastbook\n",
    "\n",
    "\n",
    "def book_exists(bookname, quantity=2):\n",
    "    global logger\n",
    "    \n",
    "    logger.debug('Connecting to database to check book existence')\n",
    "    with sqlite3.connect('packt-notify.db') as dbconn:\n",
    "        cur = dbconn.cursor()\n",
    "        logger.debug('Querying top %d books' %quantity)\n",
    "        data = cur.execute('select * from tb_books limit ?', (quantity, ))\n",
    "        bookslist = [book[1] for book in data]\n",
    "        logger.debug('Got %d books' %len(bookslist))\n",
    "    \n",
    "    logger.debug('{} in {}'.format(bookname, bookslist))\n",
    "    return bookname in bookslist\n",
    "\n",
    "\n",
    "def insert_book(bookname):\n",
    "    import time\n",
    "    \n",
    "    global logger\n",
    "    \n",
    "    logger.debug('Connecting to database to insert book')\n",
    "    with sqlite3.connect('packt-notify.db') as dbconn:\n",
    "        cur = dbconn.cursor()\n",
    "        logger.debug('Inserting data')\n",
    "        cur.execute(\"\"\"INSERT INTO tb_books (nom_book, dt_fetched)\n",
    "                        VALUES (?, ?);\"\"\", (bookname, time.strftime('%Y-%m-%d %H:%M:%S')))\n",
    "        dbconn.commit()\n",
    "        \n",
    "def get_recipients():\n",
    "    global logger\n",
    "    \n",
    "    with sqlite3.connect('packt-notify.db') as dbconn:\n",
    "        cur = dbconn.cursor()\n",
    "        logger.debug('Querying tb_emails')\n",
    "        results = cur.execute('SELECT nom_addr FROM tb_emails')\n",
    "        \n",
    "    return results"
   ]
  }
 ],
 "metadata": {
  "anaconda-cloud": {},
  "kernelspec": {
   "display_name": "Python [default]",
   "language": "python",
   "name": "python3"
  },
  "language_info": {
   "codemirror_mode": {
    "name": "ipython",
    "version": 3
   },
   "file_extension": ".py",
   "mimetype": "text/x-python",
   "name": "python",
   "nbconvert_exporter": "python",
   "pygments_lexer": "ipython3",
   "version": "3.5.2"
  }
 },
 "nbformat": 4,
 "nbformat_minor": 2
}
