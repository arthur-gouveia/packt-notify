{
 "cells": [
  {
   "cell_type": "code",
   "execution_count": 5,
   "metadata": {
    "collapsed": true
   },
   "outputs": [],
   "source": [
    "import sqlite3"
   ]
  },
  {
   "cell_type": "code",
   "execution_count": 3,
   "metadata": {
    "collapsed": false
   },
   "outputs": [],
   "source": [
    "def sign_up(email_addr, id_last_book=None):\n",
    "    with sqlite3.connect('packt-notify.db') as dbconn:\n",
    "        cur = dbconn.cursor()\n",
    "        cur.execute('''INSERT INTO tb_emails (nom_addr, dt_in, id_last_book)\n",
    "                        VALUES (?, ?, ?)''', (email_addr, time.strftime('%Y-%m-%d %H:%M:%S'), id_last_book))\n",
    "\n",
    "        dbconn.commit()\n",
    "\n",
    "\n",
    "def get_last_book():\n",
    "    logger.debug('Connecting to database to get last book')\n",
    "    with sqlite3.connect('packt-notify.db') as dbconn:\n",
    "        cur = dbconn.cursor()\n",
    "        logger.debug('Querying last book')\n",
    "        data = cur.execute('Select rowid as mr, nom_book from tb_books order by rowid desc limit 1')\n",
    "        lastbook = list(data)[0]\n",
    "    return lastbook\n",
    "\n",
    "\n",
    "def book_exists(bookname, quantity=2):\n",
    "    logger.debug('Connecting to database to check book existence')\n",
    "    with sqlite3.connect('packt-notify.db') as dbconn:\n",
    "        cur = dbconn.cursor()\n",
    "        logger.debug('Querying top %d books' %quantity)\n",
    "        data = cur.execute('select * from tb_books limit ?', (quantity, ))\n",
    "        bookslist = [book[1] for book in data]\n",
    "        logger.debug('Got %d books' %len(bookslist))\n",
    "    \n",
    "    logger.debug('{} in {}'.format(bookname, bookslist))\n",
    "    return bookname in bookslist\n",
    "\n",
    "\n",
    "def insert_book(bookname):\n",
    "    global logger\n",
    "    \n",
    "    logger.debug('Connecting to database to insert book')\n",
    "    with sqlite3.connect('packt-notify.db') as dbconn:\n",
    "        cur = dbconn.cursor()\n",
    "        logger.debug('Inserting data')\n",
    "        cur.execute(\"\"\"INSERT INTO tb_books (nom_book, dt_fetched)\n",
    "                        VALUES (?, ?);\"\"\", (bookname, time.strftime('%Y-%m-%d %H:%M:%S')))\n",
    "        dbconn.commit()\n",
    "        \n",
    "def get_recipients():\n",
    "    with sqlite3.connect('packt-notify.db') as dbconn:\n",
    "        cur = dbconn.cursor()\n",
    "        results = cur.execute('SELECT nom_addr FROM tb_emails')\n",
    "    \n",
    "    return [result[1] for result in results]"
   ]
  },
  {
   "cell_type": "code",
   "execution_count": 6,
   "metadata": {
    "collapsed": false
   },
   "outputs": [
    {
     "ename": "OperationalError",
     "evalue": "no such table: tb_emails",
     "output_type": "error",
     "traceback": [
      "\u001b[0;31m---------------------------------------------------------------------------\u001b[0m",
      "\u001b[0;31mOperationalError\u001b[0m                          Traceback (most recent call last)",
      "\u001b[0;32m<ipython-input-6-e02c1aa77302>\u001b[0m in \u001b[0;36m<module>\u001b[0;34m()\u001b[0m\n\u001b[0;32m----> 1\u001b[0;31m \u001b[0mget_recipients\u001b[0m\u001b[0;34m(\u001b[0m\u001b[0;34m)\u001b[0m\u001b[0;34m\u001b[0m\u001b[0m\n\u001b[0m",
      "\u001b[0;32m<ipython-input-3-34b657060ff0>\u001b[0m in \u001b[0;36mget_recipients\u001b[0;34m()\u001b[0m\n\u001b[1;32m     45\u001b[0m     \u001b[0;32mwith\u001b[0m \u001b[0msqlite3\u001b[0m\u001b[0;34m.\u001b[0m\u001b[0mconnect\u001b[0m\u001b[0;34m(\u001b[0m\u001b[0;34m'packt-notify.db'\u001b[0m\u001b[0;34m)\u001b[0m \u001b[0;32mas\u001b[0m \u001b[0mdbconn\u001b[0m\u001b[0;34m:\u001b[0m\u001b[0;34m\u001b[0m\u001b[0m\n\u001b[1;32m     46\u001b[0m         \u001b[0mcur\u001b[0m \u001b[0;34m=\u001b[0m \u001b[0mdbconn\u001b[0m\u001b[0;34m.\u001b[0m\u001b[0mcursor\u001b[0m\u001b[0;34m(\u001b[0m\u001b[0;34m)\u001b[0m\u001b[0;34m\u001b[0m\u001b[0m\n\u001b[0;32m---> 47\u001b[0;31m         \u001b[0mresults\u001b[0m \u001b[0;34m=\u001b[0m \u001b[0mcur\u001b[0m\u001b[0;34m.\u001b[0m\u001b[0mexecute\u001b[0m\u001b[0;34m(\u001b[0m\u001b[0;34m'SELECT nom_addr FROM tb_emails'\u001b[0m\u001b[0;34m)\u001b[0m\u001b[0;34m\u001b[0m\u001b[0m\n\u001b[0m\u001b[1;32m     48\u001b[0m \u001b[0;34m\u001b[0m\u001b[0m\n\u001b[1;32m     49\u001b[0m     \u001b[0;32mreturn\u001b[0m \u001b[0;34m[\u001b[0m\u001b[0mresult\u001b[0m\u001b[0;34m[\u001b[0m\u001b[0;36m1\u001b[0m\u001b[0;34m]\u001b[0m \u001b[0;32mfor\u001b[0m \u001b[0mresult\u001b[0m \u001b[0;32min\u001b[0m \u001b[0mresults\u001b[0m\u001b[0;34m]\u001b[0m\u001b[0;34m\u001b[0m\u001b[0m\n",
      "\u001b[0;31mOperationalError\u001b[0m: no such table: tb_emails"
     ]
    }
   ],
   "source": [
    "get_recipients()"
   ]
  }
 ],
 "metadata": {
  "anaconda-cloud": {},
  "kernelspec": {
   "display_name": "Python [default]",
   "language": "python",
   "name": "python3"
  },
  "language_info": {
   "codemirror_mode": {
    "name": "ipython",
    "version": 3
   },
   "file_extension": ".py",
   "mimetype": "text/x-python",
   "name": "python",
   "nbconvert_exporter": "python",
   "pygments_lexer": "ipython3",
   "version": "3.5.2"
  }
 },
 "nbformat": 4,
 "nbformat_minor": 2
}
