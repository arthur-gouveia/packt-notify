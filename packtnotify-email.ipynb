{
 "cells": [
  {
   "cell_type": "code",
   "execution_count": 1,
   "metadata": {
    "collapsed": true
   },
   "outputs": [],
   "source": [
    "import logging\n",
    "import os\n",
    "import poplib"
   ]
  },
  {
   "cell_type": "code",
   "execution_count": 2,
   "metadata": {
    "collapsed": true
   },
   "outputs": [],
   "source": [
    "SERVER = os.environ['SERVER']\n",
    "USER = os.environ['USER']\n",
    "PASS = os.environ['PASS']\n",
    "AUTH_FAIL = r'Authentication failed for user '+USER\n",
    "\n",
    "logger = logging.getLogger('packt-notify email')\n",
    "handler = logging.StreamHandler()\n",
    "formatter = logging.Formatter(\n",
    "        '%(asctime)s %(name)-12s %(levelname)-8s %(message)s')\n",
    "handler.setFormatter(formatter)\n",
    "logger.addHandler(handler)\n",
    "logger.setLevel(logging.INFO)"
   ]
  },
  {
   "cell_type": "code",
   "execution_count": 3,
   "metadata": {
    "collapsed": true
   },
   "outputs": [],
   "source": [
    "def busca_emails(conexão, logger=None):\n",
    "    from email.parser import Parser\n",
    "    \n",
    "    # Lista as mensagens no servidor\n",
    "    resp, items, octets = conexão.list()\n",
    "    if logger is not None:\n",
    "        logger.info('Retrieved %d items from server' %len(items))\n",
    "    # Pega todas as mensagens do servidor\n",
    "    messages = {i: conexão.retr(i) for i in range(1, len(items)+1)}\n",
    "    # Decodifica de bytes para string\n",
    "    messages = {key: [m.decode() for m in messages[key][1]] for key in messages.keys()}\n",
    "    # Transforma a lista de strings em uma string separada por \\n\n",
    "    messages = {key: '\\n'.join(messages[key]) for key in messages.keys()}\n",
    "    # Faz o parse dessa string em um objeto email.message\n",
    "    messages = {key: Parser().parsestr(messages[key]) for key in messages.keys()}\n",
    "    \n",
    "    return messages"
   ]
  },
  {
   "cell_type": "code",
   "execution_count": 4,
   "metadata": {
    "collapsed": false
   },
   "outputs": [
    {
     "name": "stderr",
     "output_type": "stream",
     "text": [
      "2017-01-10 11:05:45,850 packt-notify email DEBUG    Connecting to pop.gmail.com\n",
      "2017-01-10 11:05:45,884 packt-notify email DEBUG    Log in\n",
      "2017-01-10 11:05:45,978 packt-notify email INFO     Retrieved 0 items from server\n",
      "2017-01-10 11:05:45,993 packt-notify email DEBUG    Closed the connection\n"
     ]
    }
   ],
   "source": [
    "logger.debug('Connecting to '+SERVER)\n",
    "conexão_pop = poplib.POP3_SSL(SERVER)\n",
    "try:\n",
    "    logger.debug('Log in')\n",
    "    conexão_pop.user(USER)\n",
    "    conexão_pop.pass_(PASS)\n",
    "except poplib.error_proto:\n",
    "    logger.debug(AUTH_FAIL)\n",
    "    print(AUTH_FAIL)\n",
    "else:\n",
    "    messages = busca_emails(conexão_pop, logger)\n",
    "    \n",
    "    for id, message in messages.items():\n",
    "        if 'packtpubnotify@gmail.com' not in message['From']:\n",
    "            try:\n",
    "                logger.debug('Deleting message '+str(id))\n",
    "                conexão_pop.dele(id)\n",
    "            except:\n",
    "                logger.debug('Unable to delete message '+str(id))\n",
    "                print('Unable to delete message.')\n",
    "finally:\n",
    "    conexão_pop.quit()\n",
    "    logger.debug('Closed the connection')"
   ]
  }
 ],
 "metadata": {
  "anaconda-cloud": {},
  "kernelspec": {
   "display_name": "Python [default]",
   "language": "python",
   "name": "python3"
  },
  "language_info": {
   "codemirror_mode": {
    "name": "ipython",
    "version": 3
   },
   "file_extension": ".py",
   "mimetype": "text/x-python",
   "name": "python",
   "nbconvert_exporter": "python",
   "pygments_lexer": "ipython3",
   "version": "3.5.2"
  }
 },
 "nbformat": 4,
 "nbformat_minor": 2
}
