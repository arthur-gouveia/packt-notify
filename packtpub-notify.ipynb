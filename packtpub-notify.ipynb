{
 "cells": [
  {
   "cell_type": "code",
   "execution_count": 1,
   "metadata": {
    "collapsed": false
   },
   "outputs": [],
   "source": [
    "import pkntbasics\n",
    "import os\n",
    "import pkntbook\n",
    "import pkntemail"
   ]
  },
  {
   "cell_type": "code",
   "execution_count": 2,
   "metadata": {
    "collapsed": false
   },
   "outputs": [],
   "source": [
    "SMTPSERVER = os.environ['SMTPSERVER']\n",
    "SMTPPORT = int(os.environ['SMTPPORT'])\n",
    "USER = os.environ['USER']\n",
    "PASS = os.environ['PASS']"
   ]
  },
  {
   "cell_type": "code",
   "execution_count": 3,
   "metadata": {
    "collapsed": false
   },
   "outputs": [
    {
     "name": "stderr",
     "output_type": "stream",
     "text": [
      "2017-01-12 09:03:09,616 pkntbook        DEBUG    Reading URL https://www.packtpub.com/packt/offers/free-learning\n",
      "2017-01-12 09:03:09,616 pkntbook        DEBUG    Reading URL https://www.packtpub.com/packt/offers/free-learning\n",
      "2017-01-12 09:03:10,508 pkntbook        DEBUG    Read 52023 data\n",
      "2017-01-12 09:03:10,508 pkntbook        DEBUG    Read 52023 data\n",
      "2017-01-12 09:03:10,510 pkntbook        DEBUG    Parsing data\n",
      "2017-01-12 09:03:10,510 pkntbook        DEBUG    Parsing data\n",
      "2017-01-12 09:03:10,547 pkntbook        DEBUG    Getting bookname\n",
      "2017-01-12 09:03:10,547 pkntbook        DEBUG    Getting bookname\n",
      "2017-01-12 09:03:10,558 pkntbook        DEBUG    Bookname: Kali Linux – Assuring Security by Penetration Testing\n",
      "2017-01-12 09:03:10,558 pkntbook        DEBUG    Bookname: Kali Linux – Assuring Security by Penetration Testing\n"
     ]
    },
    {
     "ename": "AttributeError",
     "evalue": "'NoneType' object has no attribute 'string'",
     "output_type": "error",
     "traceback": [
      "\u001b[0;31m---------------------------------------------------------------------------\u001b[0m",
      "\u001b[0;31mAttributeError\u001b[0m                            Traceback (most recent call last)",
      "\u001b[0;32m<ipython-input-3-5253e6ce3ae6>\u001b[0m in \u001b[0;36m<module>\u001b[0;34m()\u001b[0m\n\u001b[1;32m      6\u001b[0m \u001b[0mpkntbasics\u001b[0m\u001b[0;34m.\u001b[0m\u001b[0mconfig_loggers\u001b[0m\u001b[0;34m(\u001b[0m\u001b[0;34m'DEBUG'\u001b[0m\u001b[0;34m)\u001b[0m\u001b[0;34m\u001b[0m\u001b[0m\n\u001b[1;32m      7\u001b[0m \u001b[0;34m\u001b[0m\u001b[0m\n\u001b[0;32m----> 8\u001b[0;31m \u001b[0mbook\u001b[0m \u001b[0;34m=\u001b[0m \u001b[0mpkntbook\u001b[0m\u001b[0;34m.\u001b[0m\u001b[0mget_book\u001b[0m\u001b[0;34m(\u001b[0m\u001b[0mURL\u001b[0m\u001b[0;34m)\u001b[0m\u001b[0;34m\u001b[0m\u001b[0m\n\u001b[0m\u001b[1;32m      9\u001b[0m \u001b[0mconn\u001b[0m \u001b[0;34m=\u001b[0m \u001b[0mpkntemail\u001b[0m\u001b[0;34m.\u001b[0m\u001b[0msmtp_connection\u001b[0m\u001b[0;34m(\u001b[0m\u001b[0mSMTPSERVER\u001b[0m\u001b[0;34m,\u001b[0m \u001b[0mSMTPPORT\u001b[0m\u001b[0;34m,\u001b[0m \u001b[0mUSER\u001b[0m\u001b[0;34m,\u001b[0m \u001b[0mPASS\u001b[0m\u001b[0;34m)\u001b[0m\u001b[0;34m\u001b[0m\u001b[0m\n\u001b[1;32m     10\u001b[0m \u001b[0mpkntemail\u001b[0m\u001b[0;34m.\u001b[0m\u001b[0msend_book\u001b[0m\u001b[0;34m(\u001b[0m\u001b[0mbook\u001b[0m\u001b[0;34m,\u001b[0m \u001b[0mconn\u001b[0m\u001b[0;34m,\u001b[0m \u001b[0mUSER\u001b[0m\u001b[0;34m,\u001b[0m \u001b[0;34m', '\u001b[0m\u001b[0;34m.\u001b[0m\u001b[0mjoin\u001b[0m\u001b[0;34m(\u001b[0m\u001b[0;34m[\u001b[0m\u001b[0;34m'gouveia.arthur@gmail.com'\u001b[0m\u001b[0;34m,\u001b[0m\u001b[0;34m'rodolfo.sousa.ti@gmail.com'\u001b[0m\u001b[0;34m]\u001b[0m\u001b[0;34m)\u001b[0m\u001b[0;34m)\u001b[0m\u001b[0;34m\u001b[0m\u001b[0m\n",
      "\u001b[0;32m/home/arthurpdgs/git/packt-notify/pkntbook.py\u001b[0m in \u001b[0;36mget_book\u001b[0;34m(url)\u001b[0m\n\u001b[1;32m     37\u001b[0m     \u001b[0mlogger\u001b[0m\u001b[0;34m.\u001b[0m\u001b[0mdebug\u001b[0m\u001b[0;34m(\u001b[0m\u001b[0;34m'Bookname: '\u001b[0m \u001b[0;34m+\u001b[0m \u001b[0mbookname\u001b[0m\u001b[0;34m)\u001b[0m\u001b[0;34m\u001b[0m\u001b[0m\n\u001b[1;32m     38\u001b[0m     \u001b[0mbookcover\u001b[0m \u001b[0;34m=\u001b[0m \u001b[0;34m'http:'\u001b[0m\u001b[0;34m+\u001b[0m\u001b[0msoup\u001b[0m\u001b[0;34m.\u001b[0m\u001b[0mfind_all\u001b[0m\u001b[0;34m(\u001b[0m\u001b[0;34m'img'\u001b[0m\u001b[0;34m,\u001b[0m \u001b[0mclass_\u001b[0m\u001b[0;34m=\u001b[0m\u001b[0;34m'imagecache-dotd_main_image'\u001b[0m\u001b[0;34m)\u001b[0m\u001b[0;34m[\u001b[0m\u001b[0;36m0\u001b[0m\u001b[0;34m]\u001b[0m\u001b[0;34m[\u001b[0m\u001b[0;34m'src'\u001b[0m\u001b[0;34m]\u001b[0m\u001b[0;34m\u001b[0m\u001b[0m\n\u001b[0;32m---> 39\u001b[0;31m     \u001b[0mbookdescription\u001b[0m \u001b[0;34m=\u001b[0m \u001b[0msoup\u001b[0m\u001b[0;34m.\u001b[0m\u001b[0mfind_all\u001b[0m\u001b[0;34m(\u001b[0m\u001b[0;34m'div'\u001b[0m\u001b[0;34m,\u001b[0m \u001b[0mclass_\u001b[0m\u001b[0;34m=\u001b[0m\u001b[0;34m'dotd-main-book-form'\u001b[0m\u001b[0;34m)\u001b[0m\u001b[0;34m[\u001b[0m\u001b[0;36m0\u001b[0m\u001b[0;34m]\u001b[0m\u001b[0;34m.\u001b[0m\u001b[0mprevious_sibling\u001b[0m\u001b[0;34m.\u001b[0m\u001b[0mprevious_sibling\u001b[0m\u001b[0;34m.\u001b[0m\u001b[0mp\u001b[0m\u001b[0;34m.\u001b[0m\u001b[0mstring\u001b[0m\u001b[0;34m\u001b[0m\u001b[0m\n\u001b[0m\u001b[1;32m     40\u001b[0m \u001b[0;34m\u001b[0m\u001b[0m\n\u001b[1;32m     41\u001b[0m     \u001b[0mbook\u001b[0m \u001b[0;34m=\u001b[0m \u001b[0mdict\u001b[0m\u001b[0;34m(\u001b[0m\u001b[0mname\u001b[0m\u001b[0;34m=\u001b[0m\u001b[0mbookname\u001b[0m\u001b[0;34m,\u001b[0m \u001b[0mdescription\u001b[0m\u001b[0;34m=\u001b[0m\u001b[0mbookdescription\u001b[0m\u001b[0;34m,\u001b[0m \u001b[0mcoverimage\u001b[0m\u001b[0;34m=\u001b[0m\u001b[0mbookcover\u001b[0m\u001b[0;34m)\u001b[0m\u001b[0;34m\u001b[0m\u001b[0m\n",
      "\u001b[0;31mAttributeError\u001b[0m: 'NoneType' object has no attribute 'string'"
     ]
    }
   ],
   "source": [
    "URL = 'https://www.packtpub.com/packt/offers/free-learning'\n",
    "LOGLEVEL = 'WARNING'\n",
    "\n",
    "logger = pkntbasics.get_logger(LOGLEVEL, 'Packt-Notify')\n",
    "\n",
    "pkntbasics.config_loggers(LOGLEVEL)\n",
    "\n",
    "book = pkntbook.get_book(URL)\n",
    "conn = pkntemail.smtp_connection(SMTPSERVER, SMTPPORT, USER, PASS)\n",
    "pkntemail.send_book(book, conn, USER, ', '.join(['gouveia.arthur@gmail.com','rodolfo.sousa.ti@gmail.com']))\n",
    "conn.quit()"
   ]
  }
 ],
 "metadata": {
  "anaconda-cloud": {},
  "kernelspec": {
   "display_name": "Python [default]",
   "language": "python",
   "name": "python3"
  },
  "language_info": {
   "codemirror_mode": {
    "name": "ipython",
    "version": 3
   },
   "file_extension": ".py",
   "mimetype": "text/x-python",
   "name": "python",
   "nbconvert_exporter": "python",
   "pygments_lexer": "ipython3",
   "version": "3.5.2"
  }
 },
 "nbformat": 4,
 "nbformat_minor": 2
}
