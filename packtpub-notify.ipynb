{
 "cells": [
  {
   "cell_type": "code",
   "execution_count": null,
   "metadata": {
    "collapsed": false
   },
   "outputs": [],
   "source": [
    "import pkntbasics\n",
    "import os\n",
    "import pkntbook\n",
    "import pkntemail\n",
    "import pkntdb"
   ]
  },
  {
   "cell_type": "code",
   "execution_count": null,
   "metadata": {
    "collapsed": false
   },
   "outputs": [],
   "source": [
    "SMTPSERVER = os.environ['SMTPSERVER']\n",
    "SMTPPORT = int(os.environ['SMTPPORT'])\n",
    "USER = os.environ['USER']\n",
    "PASS = os.environ['PASS']\n",
    "BOTKEY = os.environ['BOTKEY']"
   ]
  },
  {
   "cell_type": "code",
   "execution_count": null,
   "metadata": {
    "collapsed": true
   },
   "outputs": [],
   "source": [
    "def telegram_notify(botkey, book):\n",
    "    import telepot\n",
    "    \n",
    "    title = 'The free Packtpub book of today is *{0[name]}*'.format(book)\n",
    "    link = 'Visit https://www.packtpub.com/packt/offers/free-learning to download'\n",
    "    image = book['coverimage'].replace(' ', '%20')\n",
    "\n",
    "    bot = telepot.Bot(botkey)\n",
    "    bot.sendMessage('@packtpubnotify', title, 'Markdown')\n",
    "    bot.sendPhoto('@packtpubnotify', image)\n",
    "    bot.sendMessage('@packtpubnotify', link, disable_web_page_preview=True)\n"
   ]
  },
  {
   "cell_type": "code",
   "execution_count": null,
   "metadata": {
    "collapsed": false,
    "scrolled": true
   },
   "outputs": [],
   "source": [
    "URL = 'https://www.packtpub.com/packt/offers/free-learning'\n",
    "LOGLEVEL = 'WARNING'\n",
    "\n",
    "logger = pkntbasics.get_logger(LOGLEVEL, 'Packt-Notify')\n",
    "\n",
    "pkntbasics.config_loggers(LOGLEVEL)\n",
    "\n",
    "book = pkntbook.get_book(URL)\n",
    "conn = pkntemail.smtp_connection(SMTPSERVER, SMTPPORT, USER, PASS)\n",
    "\n",
    "recipients = pkntdb.get_recipients()\n",
    "\n",
    "pkntemail.send_book(book, conn, USER, recipients)\n",
    "\n",
    "telegram_notify(BOTKEY, book)\n",
    "\n",
    "conn.quit()"
   ]
  }
 ],
 "metadata": {
  "anaconda-cloud": {},
  "kernelspec": {
   "display_name": "Python [default]",
   "language": "python",
   "name": "python3"
  },
  "language_info": {
   "codemirror_mode": {
    "name": "ipython",
    "version": 3
   },
   "file_extension": ".py",
   "mimetype": "text/x-python",
   "name": "python",
   "nbconvert_exporter": "python",
   "pygments_lexer": "ipython3",
   "version": "3.5.2"
  }
 },
 "nbformat": 4,
 "nbformat_minor": 2
}
