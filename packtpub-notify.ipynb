{
 "cells": [
  {
   "cell_type": "code",
   "execution_count": 1,
   "metadata": {
    "collapsed": false
   },
   "outputs": [],
   "source": [
    "import pkntbasics\n",
    "import os\n",
    "import pkntbook\n",
    "import pkntemail\n",
    "import pkntdb"
   ]
  },
  {
   "cell_type": "code",
   "execution_count": 2,
   "metadata": {
    "collapsed": false
   },
   "outputs": [],
   "source": [
    "SMTPSERVER = os.environ['SMTPSERVER']\n",
    "SMTPPORT = int(os.environ['SMTPPORT'])\n",
    "USER = os.environ['USER']\n",
    "PASS = os.environ['PASS']"
   ]
  },
  {
   "cell_type": "code",
   "execution_count": 3,
   "metadata": {
    "collapsed": false,
    "scrolled": true
   },
   "outputs": [
    {
     "data": {
      "text/plain": [
       "(221, b'2.0.0 closing connection r188sm7108229qkb.6 - gsmtp')"
      ]
     },
     "execution_count": 3,
     "metadata": {},
     "output_type": "execute_result"
    }
   ],
   "source": [
    "URL = 'https://www.packtpub.com/packt/offers/free-learning'\n",
    "LOGLEVEL = 'WARNING'\n",
    "\n",
    "logger = pkntbasics.get_logger(LOGLEVEL, 'Packt-Notify')\n",
    "\n",
    "pkntbasics.config_loggers(LOGLEVEL)\n",
    "\n",
    "book = pkntbook.get_book(URL)\n",
    "conn = pkntemail.smtp_connection(SMTPSERVER, SMTPPORT, USER, PASS)\n",
    "\n",
    "recipients = pkntdb.get_recipients()\n",
    "\n",
    "pkntemail.send_book(book, conn, USER, recipients)\n",
    "\n",
    "conn.quit()"
   ]
  }
 ],
 "metadata": {
  "anaconda-cloud": {},
  "kernelspec": {
   "display_name": "Python [default]",
   "language": "python",
   "name": "python3"
  },
  "language_info": {
   "codemirror_mode": {
    "name": "ipython",
    "version": 3
   },
   "file_extension": ".py",
   "mimetype": "text/x-python",
   "name": "python",
   "nbconvert_exporter": "python",
   "pygments_lexer": "ipython3",
   "version": "3.5.2"
  }
 },
 "nbformat": 4,
 "nbformat_minor": 2
}
