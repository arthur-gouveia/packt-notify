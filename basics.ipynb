{
 "cells": [
  {
   "cell_type": "code",
   "execution_count": 1,
   "metadata": {
    "collapsed": false
   },
   "outputs": [],
   "source": [
    "BOOKLOGGER = None\n",
    "MAILLOGGER = None\n",
    "DBLOGGER = None\n",
    "\n",
    "def config_loggers(lvl):\n",
    "    global BOOKLOGGER\n",
    "    global MAILLOGGER\n",
    "    global DBLOGGER\n",
    "    \n",
    "    BOOKLOGGER = get_logger(lvl, 'pkntbook')\n",
    "    MAILLOGGER = get_logger(lvl, 'pkntmail')\n",
    "    DBLOGGER = get_logger(lvl, 'pkntdb')\n",
    "    \n",
    "\n",
    "def get_logger(lvl, alias):\n",
    "    import logging\n",
    "    \n",
    "    logger = logging.getLogger(alias)\n",
    "    handler = logging.StreamHandler()\n",
    "    formatter = logging.Formatter(\n",
    "            '%(asctime)s %(name)-15s %(levelname)-8s %(message)s')\n",
    "    handler.setFormatter(formatter)\n",
    "    logger.addHandler(handler)\n",
    "    logger.setLevel(lvl)\n",
    "    \n",
    "    return logger\n",
    "\n",
    "def create_database():\n",
    "    import sqlite\n",
    "    \n",
    "    with sqlite3.connect('packt-notify.db') as dbconn:\n",
    "        cur = dbconn.cursor()\n",
    "        cur.execute('''CREATE TABLE IF NOT EXISTS tb_books(\n",
    "                        id_book INTEGER PRIMARY KEY ASC,\n",
    "                        nom_book TEXT NOT NULL,\n",
    "                        dt_fetched DATETIME NOT NULL)''')\n",
    "        cur.execute('''CREATE TABLE IF NOT EXISTS tb_emails\n",
    "                     (id_addr INTEGER PRIMARY KEY ASC,\n",
    "                      nom_addr TEXT NOT NULL,\n",
    "                      dt_in DATE NOT NULL,\n",
    "                      dt_out DATE,\n",
    "                      id_last_book INT,\n",
    "                      FOREIGN KEY(id_last_book) REFERENCES tb_books(id_book))''')\n",
    "        dbconn.commit()"
   ]
  }
 ],
 "metadata": {
  "anaconda-cloud": {},
  "kernelspec": {
   "display_name": "Python [default]",
   "language": "python",
   "name": "python3"
  },
  "language_info": {
   "codemirror_mode": {
    "name": "ipython",
    "version": 3
   },
   "file_extension": ".py",
   "mimetype": "text/x-python",
   "name": "python",
   "nbconvert_exporter": "python",
   "pygments_lexer": "ipython3",
   "version": "3.5.2"
  }
 },
 "nbformat": 4,
 "nbformat_minor": 2
}
